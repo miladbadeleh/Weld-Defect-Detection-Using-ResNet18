{
  "cells": [
    {
      "cell_type": "code",
      "execution_count": 8,
      "metadata": {},
      "outputs": [],
      "source": [
        "import os\n",
        "import torch\n",
        "import torch.nn as nn\n",
        "import torch.nn.functional as F\n",
        "from torchvision import datasets, transforms\n",
        "from torch.utils.data import DataLoader\n",
        "from tqdm import tqdm\n",
        "import matplotlib.pyplot as plt"
      ]
    },
    {
      "cell_type": "code",
      "execution_count": 9,
      "metadata": {},
      "outputs": [
        {
          "name": "stdout",
          "output_type": "stream",
          "text": [
            "Using device: cpu\n"
          ]
        }
      ],
      "source": [
        "\n",
        "\n",
        "# Check if GPU is available\n",
        "device = torch.device(\"cuda\" if torch.cuda.is_available() else \"cpu\")\n",
        "print(f\"Using device: {device}\")\n"
      ]
    },
    {
      "cell_type": "code",
      "execution_count": null,
      "metadata": {},
      "outputs": [],
      "source": [
        "\n",
        "\n",
        "# Define transformations for the datasets\n",
        "transform = transforms.Compose([\n",
        "    transforms.Resize((300, 30)),  # Resize images to 300*30\n",
        "    transforms.ToTensor(),           # Convert images to PyTorch tensors\n",
        "    transforms.Normalize(            # Normalize with ImageNet mean and std\n",
        "        mean=[0.485, 0.456, 0.406],\n",
        "        std=[0.229, 0.224, 0.225]\n",
        "    )\n",
        "])\n",
        "\n",
        "# Load datasets\n",
        "train_dataset = datasets.ImageFolder(root=\"D:/AI/Weld_Aesthetical_Defects/train\", transform=transform)\n",
        "val_dataset = datasets.ImageFolder(root=\"D:/AI/Weld_Aesthetical_Defects/val\", transform=transform)\n",
        "test_dataset = datasets.ImageFolder(root=\"D:/AI/Weld_Aesthetical_Defects/test\", transform=transform)\n"
      ]
    },
    {
      "cell_type": "code",
      "execution_count": null,
      "metadata": {
        "colab": {
          "base_uri": "https://localhost:8080/",
          "height": 426
        },
        "id": "K6IlhEGORDMA",
        "outputId": "e177dfa0-50ed-40e9-b48e-9ce4a18b7089"
      },
      "outputs": [
        {
          "name": "stdout",
          "output_type": "stream",
          "text": [
            "Using device: cuda\n"
          ]
        },
        {
          "name": "stderr",
          "output_type": "stream",
          "text": [
            "C:\\Users\\MSI\\AppData\\Local\\Packages\\PythonSoftwareFoundation.Python.3.12_qbz5n2kfra8p0\\LocalCache\\local-packages\\Python312\\site-packages\\torchvision\\models\\_utils.py:208: UserWarning: The parameter 'pretrained' is deprecated since 0.13 and may be removed in the future, please use 'weights' instead.\n",
            "  warnings.warn(\n",
            "C:\\Users\\MSI\\AppData\\Local\\Packages\\PythonSoftwareFoundation.Python.3.12_qbz5n2kfra8p0\\LocalCache\\local-packages\\Python312\\site-packages\\torchvision\\models\\_utils.py:223: UserWarning: Arguments other than a weight enum or `None` for 'weights' are deprecated since 0.13 and may be removed in the future. The current behavior is equivalent to passing `weights=ResNet18_Weights.IMAGENET1K_V1`. You can also use `weights=ResNet18_Weights.DEFAULT` to get the most up-to-date weights.\n",
            "  warnings.warn(msg)\n",
            "Epoch [1/10] Training: 100%|\u001b[38;2;0;255;0m██████████\u001b[0m| 1350/1350 [01:30<00:00, 14.84it/s, accuracy=86.7, loss=0.0044]\n"
          ]
        },
        {
          "name": "stdout",
          "output_type": "stream",
          "text": [
            "Epoch [1/10], Train Loss: 0.2957, Train Acc: 86.73%\n"
          ]
        },
        {
          "name": "stderr",
          "output_type": "stream",
          "text": [
            "Epoch [1/10] Validation: 100%|\u001b[38;2;255;255;0m██████████\u001b[0m| 290/290 [00:10<00:00, 27.68it/s, accuracy=87.1, loss=0.376] \n"
          ]
        },
        {
          "name": "stdout",
          "output_type": "stream",
          "text": [
            "Epoch [1/10], Val Loss: 0.2898, Val Acc: 87.12%\n"
          ]
        },
        {
          "name": "stderr",
          "output_type": "stream",
          "text": [
            "Epoch [2/10] Training: 100%|\u001b[38;2;0;255;0m██████████\u001b[0m| 1350/1350 [01:34<00:00, 14.30it/s, accuracy=88.4, loss=5.18]  \n"
          ]
        },
        {
          "name": "stdout",
          "output_type": "stream",
          "text": [
            "Epoch [2/10], Train Loss: 0.2648, Train Acc: 88.37%\n"
          ]
        },
        {
          "name": "stderr",
          "output_type": "stream",
          "text": [
            "Epoch [2/10] Validation: 100%|\u001b[38;2;255;255;0m██████████\u001b[0m| 290/290 [00:09<00:00, 31.56it/s, accuracy=82.7, loss=0.213] \n"
          ]
        },
        {
          "name": "stdout",
          "output_type": "stream",
          "text": [
            "Epoch [2/10], Val Loss: 0.3797, Val Acc: 82.66%\n"
          ]
        },
        {
          "name": "stderr",
          "output_type": "stream",
          "text": [
            "Epoch [3/10] Training: 100%|\u001b[38;2;0;255;0m██████████\u001b[0m| 1350/1350 [01:51<00:00, 12.13it/s, accuracy=88.8, loss=0.00187]\n"
          ]
        },
        {
          "name": "stdout",
          "output_type": "stream",
          "text": [
            "Epoch [3/10], Train Loss: 0.2505, Train Acc: 88.78%\n"
          ]
        },
        {
          "name": "stderr",
          "output_type": "stream",
          "text": [
            "Epoch [3/10] Validation: 100%|\u001b[38;2;255;255;0m██████████\u001b[0m| 290/290 [00:10<00:00, 26.84it/s, accuracy=89.5, loss=0.395]  \n"
          ]
        },
        {
          "name": "stdout",
          "output_type": "stream",
          "text": [
            "Epoch [3/10], Val Loss: 0.2378, Val Acc: 89.51%\n"
          ]
        },
        {
          "name": "stderr",
          "output_type": "stream",
          "text": [
            "Epoch [4/10] Training: 100%|\u001b[38;2;0;255;0m██████████\u001b[0m| 1350/1350 [01:13<00:00, 18.27it/s, accuracy=89.4, loss=0.0122]\n"
          ]
        },
        {
          "name": "stdout",
          "output_type": "stream",
          "text": [
            "Epoch [4/10], Train Loss: 0.2375, Train Acc: 89.40%\n"
          ]
        },
        {
          "name": "stderr",
          "output_type": "stream",
          "text": [
            "Epoch [4/10] Validation: 100%|\u001b[38;2;255;255;0m██████████\u001b[0m| 290/290 [00:08<00:00, 33.94it/s, accuracy=85.7, loss=0.133]   \n"
          ]
        },
        {
          "name": "stdout",
          "output_type": "stream",
          "text": [
            "Epoch [4/10], Val Loss: 0.3666, Val Acc: 85.72%\n"
          ]
        },
        {
          "name": "stderr",
          "output_type": "stream",
          "text": [
            "Epoch [5/10] Training: 100%|\u001b[38;2;0;255;0m██████████\u001b[0m| 1350/1350 [01:03<00:00, 21.14it/s, accuracy=89.8, loss=0.00247]\n"
          ]
        },
        {
          "name": "stdout",
          "output_type": "stream",
          "text": [
            "Epoch [5/10], Train Loss: 0.2275, Train Acc: 89.81%\n"
          ]
        },
        {
          "name": "stderr",
          "output_type": "stream",
          "text": [
            "Epoch [5/10] Validation: 100%|\u001b[38;2;255;255;0m██████████\u001b[0m| 290/290 [00:09<00:00, 31.65it/s, accuracy=89.7, loss=0.179]   \n"
          ]
        },
        {
          "name": "stdout",
          "output_type": "stream",
          "text": [
            "Epoch [5/10], Val Loss: 0.2326, Val Acc: 89.74%\n"
          ]
        },
        {
          "name": "stderr",
          "output_type": "stream",
          "text": [
            "Epoch [6/10] Training: 100%|\u001b[38;2;0;255;0m██████████\u001b[0m| 1350/1350 [01:29<00:00, 15.12it/s, accuracy=90.1, loss=0.00486]\n"
          ]
        },
        {
          "name": "stdout",
          "output_type": "stream",
          "text": [
            "Epoch [6/10], Train Loss: 0.2215, Train Acc: 90.09%\n"
          ]
        },
        {
          "name": "stderr",
          "output_type": "stream",
          "text": [
            "Epoch [6/10] Validation: 100%|\u001b[38;2;255;255;0m██████████\u001b[0m| 290/290 [00:10<00:00, 26.69it/s, accuracy=90.1, loss=0.348]  \n"
          ]
        },
        {
          "name": "stdout",
          "output_type": "stream",
          "text": [
            "Epoch [6/10], Val Loss: 0.2285, Val Acc: 90.06%\n"
          ]
        },
        {
          "name": "stderr",
          "output_type": "stream",
          "text": [
            "Epoch [7/10] Training: 100%|\u001b[38;2;0;255;0m██████████\u001b[0m| 1350/1350 [01:40<00:00, 13.45it/s, accuracy=90.4, loss=0.00038]\n"
          ]
        },
        {
          "name": "stdout",
          "output_type": "stream",
          "text": [
            "Epoch [7/10], Train Loss: 0.2182, Train Acc: 90.36%\n"
          ]
        },
        {
          "name": "stderr",
          "output_type": "stream",
          "text": [
            "Epoch [7/10] Validation: 100%|\u001b[38;2;255;255;0m██████████\u001b[0m| 290/290 [00:10<00:00, 27.70it/s, accuracy=90.2, loss=0.289]   \n"
          ]
        },
        {
          "name": "stdout",
          "output_type": "stream",
          "text": [
            "Epoch [7/10], Val Loss: 0.2250, Val Acc: 90.17%\n"
          ]
        },
        {
          "name": "stderr",
          "output_type": "stream",
          "text": [
            "Epoch [8/10] Training: 100%|\u001b[38;2;0;255;0m██████████\u001b[0m| 1350/1350 [01:48<00:00, 12.40it/s, accuracy=90.8, loss=0.00454]\n"
          ]
        },
        {
          "name": "stdout",
          "output_type": "stream",
          "text": [
            "Epoch [8/10], Train Loss: 0.2068, Train Acc: 90.75%\n"
          ]
        },
        {
          "name": "stderr",
          "output_type": "stream",
          "text": [
            "Epoch [8/10] Validation: 100%|\u001b[38;2;255;255;0m██████████\u001b[0m| 290/290 [00:10<00:00, 27.56it/s, accuracy=88.9, loss=0.198]   \n"
          ]
        },
        {
          "name": "stdout",
          "output_type": "stream",
          "text": [
            "Epoch [8/10], Val Loss: 0.2554, Val Acc: 88.94%\n"
          ]
        },
        {
          "name": "stderr",
          "output_type": "stream",
          "text": [
            "Epoch [9/10] Training: 100%|\u001b[38;2;0;255;0m██████████\u001b[0m| 1350/1350 [01:48<00:00, 12.40it/s, accuracy=90.9, loss=0.000589]\n"
          ]
        },
        {
          "name": "stdout",
          "output_type": "stream",
          "text": [
            "Epoch [9/10], Train Loss: 0.2027, Train Acc: 90.94%\n"
          ]
        },
        {
          "name": "stderr",
          "output_type": "stream",
          "text": [
            "Epoch [9/10] Validation: 100%|\u001b[38;2;255;255;0m██████████\u001b[0m| 290/290 [00:10<00:00, 27.10it/s, accuracy=90.2, loss=0.237]  \n"
          ]
        },
        {
          "name": "stdout",
          "output_type": "stream",
          "text": [
            "Epoch [9/10], Val Loss: 0.2200, Val Acc: 90.17%\n"
          ]
        },
        {
          "name": "stderr",
          "output_type": "stream",
          "text": [
            "Epoch [10/10] Training: 100%|\u001b[38;2;0;255;0m██████████\u001b[0m| 1350/1350 [01:48<00:00, 12.40it/s, accuracy=91.5, loss=0.00167]\n"
          ]
        },
        {
          "name": "stdout",
          "output_type": "stream",
          "text": [
            "Epoch [10/10], Train Loss: 0.1922, Train Acc: 91.50%\n"
          ]
        },
        {
          "name": "stderr",
          "output_type": "stream",
          "text": [
            "Epoch [10/10] Validation: 100%|\u001b[38;2;255;255;0m██████████\u001b[0m| 290/290 [00:10<00:00, 27.62it/s, accuracy=90.6, loss=0.304]   \n"
          ]
        },
        {
          "name": "stdout",
          "output_type": "stream",
          "text": [
            "Epoch [10/10], Val Loss: 0.2287, Val Acc: 90.55%\n",
            "Training complete.\n",
            "Model saved to resnet18_weld_defects_model.pth\n"
          ]
        },
        {
          "ename": "SyntaxError",
          "evalue": "keyword argument repeated: desc (1533182004.py, line 131)",
          "output_type": "error",
          "traceback": [
            "\u001b[1;36m  Cell \u001b[1;32mIn[1], line 131\u001b[1;36m\u001b[0m\n\u001b[1;33m    test_loop = tqdm(test_loader, desc=\"Testing\", desc=\"Testing\",colour='#ff0000')\u001b[0m\n\u001b[1;37m                                                  ^\u001b[0m\n\u001b[1;31mSyntaxError\u001b[0m\u001b[1;31m:\u001b[0m keyword argument repeated: desc\n"
          ]
        }
      ],
      "source": [
        "\n",
        "# Create data loaders\n",
        "train_loader = DataLoader(train_dataset, batch_size=32, shuffle=True)\n",
        "val_loader = DataLoader(val_dataset, batch_size=32, shuffle=False)\n",
        "test_loader = DataLoader(test_dataset, batch_size=32, shuffle=False)\n",
        "\n",
        "# Define the ResNet18 model\n",
        "import torchvision.models as models\n",
        "model = models.resnet18(pretrained=True)\n",
        "\n",
        "# Modify the final fully connected layer to match the number of classes in your dataset\n",
        "num_classes = len(train_dataset.classes)\n",
        "model.fc = nn.Linear(model.fc.in_features, num_classes)\n",
        "\n",
        "# Move the model to the appropriate device (GPU or CPU)\n",
        "model = model.to(device)\n",
        "\n",
        "# Define the loss function and optimizer\n",
        "criterion = nn.CrossEntropyLoss()\n",
        "optimizer = torch.optim.Adam(model.parameters(), lr=0.001)\n",
        "\n",
        "# Training function\n",
        "def train(model, train_loader, val_loader, criterion, optimizer, num_epochs=10):\n",
        "    for epoch in range(num_epochs):\n",
        "        model.train()\n",
        "        running_loss = 0.0\n",
        "        correct = 0\n",
        "        total = 0\n",
        "\n",
        "        # Training loop with tqdm progress bar\n",
        "        train_loop = tqdm(train_loader, desc=f\"Epoch [{epoch+1}/{num_epochs}] Training\",colour='#00ff00')\n",
        "        for images, labels in train_loop:\n",
        "            images, labels = images.to(device), labels.to(device)\n",
        "\n",
        "            # Zero the parameter gradients\n",
        "            optimizer.zero_grad()\n",
        "\n",
        "            # Forward pass\n",
        "            outputs = model(images)\n",
        "            loss = criterion(outputs, labels)\n",
        "\n",
        "            # Backward pass and optimize\n",
        "            loss.backward()\n",
        "            optimizer.step()\n",
        "\n",
        "            # Calculate statistics\n",
        "            running_loss += loss.item()\n",
        "            _, predicted = outputs.max(1)\n",
        "            total += labels.size(0)\n",
        "            correct += predicted.eq(labels).sum().item()\n",
        "\n",
        "            # Update progress bar\n",
        "            train_loop.set_postfix(loss=loss.item(), accuracy=(100. * correct / total))\n",
        "\n",
        "        # Print training statistics\n",
        "        train_loss = running_loss / len(train_loader)\n",
        "        train_acc = 100. * correct / total\n",
        "        print(f\"Epoch [{epoch+1}/{num_epochs}], Train Loss: {train_loss:.4f}, Train Acc: {train_acc:.2f}%\")\n",
        "\n",
        "        # Validation loop with tqdm progress bar\n",
        "        model.eval()\n",
        "        val_loss = 0.0\n",
        "        correct = 0\n",
        "        total = 0\n",
        "\n",
        "        val_loop = tqdm(val_loader, desc=f\"Epoch [{epoch+1}/{num_epochs}] Validation\",colour='#ffff00')\n",
        "        with torch.no_grad():\n",
        "            for images, labels in val_loop:\n",
        "                images, labels = images.to(device), labels.to(device)\n",
        "                outputs = model(images)\n",
        "                loss = criterion(outputs, labels)\n",
        "\n",
        "                val_loss += loss.item()\n",
        "                _, predicted = outputs.max(1)\n",
        "                total += labels.size(0)\n",
        "                correct += predicted.eq(labels).sum().item()\n",
        "\n",
        "                # Update progress bar\n",
        "                val_loop.set_postfix(loss=loss.item(), accuracy=(100. * correct / total))\n",
        "\n",
        "        # Print validation statistics\n",
        "        val_loss = val_loss / len(val_loader)\n",
        "        val_acc = 100. * correct / total\n",
        "        print(f\"Epoch [{epoch+1}/{num_epochs}], Val Loss: {val_loss:.4f}, Val Acc: {val_acc:.2f}%\")\n",
        "\n",
        "    print(\"Training complete.\")\n",
        "\n",
        "# Train the model\n",
        "train(model, train_loader, val_loader, criterion, optimizer, num_epochs=10)\n",
        "\n",
        "# Save the trained model\n",
        "torch.save(model.state_dict(), \"resnet18_weld_defects_model.pth\")\n",
        "print(\"Model saved to resnet18_weld_defects_model.pth\")\n",
        "\n"
      ]
    },
    {
      "cell_type": "code",
      "execution_count": 13,
      "metadata": {},
      "outputs": [],
      "source": [
        "import torch\n",
        "\n",
        "# Load the entire model and map it to the CPU\n",
        "model = torch.load('resnet18_weld_defects_model.pth', map_location=torch.device('cpu'))"
      ]
    },
    {
      "cell_type": "code",
      "execution_count": 17,
      "metadata": {},
      "outputs": [
        {
          "ename": "NameError",
          "evalue": "name 'test_loader' is not defined",
          "output_type": "error",
          "traceback": [
            "\u001b[1;31m---------------------------------------------------------------------------\u001b[0m",
            "\u001b[1;31mNameError\u001b[0m                                 Traceback (most recent call last)",
            "Cell \u001b[1;32mIn[17], line 30\u001b[0m\n\u001b[0;32m     27\u001b[0m     \u001b[38;5;28mprint\u001b[39m(\u001b[38;5;124mf\u001b[39m\u001b[38;5;124m\"\u001b[39m\u001b[38;5;124mTest Loss: \u001b[39m\u001b[38;5;132;01m{\u001b[39;00mtest_loss\u001b[38;5;132;01m:\u001b[39;00m\u001b[38;5;124m.4f\u001b[39m\u001b[38;5;132;01m}\u001b[39;00m\u001b[38;5;124m, Test Acc: \u001b[39m\u001b[38;5;132;01m{\u001b[39;00mtest_acc\u001b[38;5;132;01m:\u001b[39;00m\u001b[38;5;124m.2f\u001b[39m\u001b[38;5;132;01m}\u001b[39;00m\u001b[38;5;124m%\u001b[39m\u001b[38;5;124m\"\u001b[39m)\n\u001b[0;32m     29\u001b[0m \u001b[38;5;66;03m# Evaluate the model on the test set\u001b[39;00m\n\u001b[1;32m---> 30\u001b[0m test(model, \u001b[43mtest_loader\u001b[49m, criterion)\n",
            "\u001b[1;31mNameError\u001b[0m: name 'test_loader' is not defined"
          ]
        }
      ],
      "source": [
        "# Test the model\n",
        "def test(model, test_loader, criterion):\n",
        "    model.eval()\n",
        "    test_loss = 0.0\n",
        "    correct = 0\n",
        "    total = 0\n",
        "\n",
        "    # Test loop with tqdm progress bar\n",
        "    test_loop = tqdm(test_loader, desc=\"Testing\",colour='#ff0000')\n",
        "    with torch.no_grad():\n",
        "        for images, labels in test_loop:\n",
        "            images, labels = images.to(device), labels.to(device)\n",
        "            outputs = model(images)\n",
        "            loss = criterion(outputs, labels)\n",
        "\n",
        "            test_loss += loss.item()\n",
        "            _, predicted = outputs.max(1)\n",
        "            total += labels.size(0)\n",
        "            correct += predicted.eq(labels).sum().item()\n",
        "\n",
        "            # Update progress bar\n",
        "            test_loop.set_postfix(loss=loss.item(), accuracy=(100. * correct / total))\n",
        "\n",
        "    # Print test statistics\n",
        "    test_loss = test_loss / len(test_loader)\n",
        "    test_acc = 100. * correct / total\n",
        "    print(f\"Test Loss: {test_loss:.4f}, Test Acc: {test_acc:.2f}%\")\n",
        "\n",
        "# Evaluate the model on the test set\n",
        "test(model, test_loader, criterion)"
      ]
    }
  ],
  "metadata": {
    "colab": {
      "provenance": []
    },
    "kernelspec": {
      "display_name": "Python 3",
      "name": "python3"
    },
    "language_info": {
      "codemirror_mode": {
        "name": "ipython",
        "version": 3
      },
      "file_extension": ".py",
      "mimetype": "text/x-python",
      "name": "python",
      "nbconvert_exporter": "python",
      "pygments_lexer": "ipython3",
      "version": "3.13.0"
    }
  },
  "nbformat": 4,
  "nbformat_minor": 0
}
